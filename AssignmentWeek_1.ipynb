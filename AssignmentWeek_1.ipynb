{
 "cells": [
  {
   "cell_type": "code",
   "execution_count": 1,
   "id": "6e1a0b67-74a7-4bd8-ab50-4c2ec2577b8f",
   "metadata": {},
   "outputs": [
    {
     "name": "stdin",
     "output_type": "stream",
     "text": [
      "Enter the number of Days 1222\n"
     ]
    },
    {
     "name": "stdout",
     "output_type": "stream",
     "text": [
      "3\n",
      "18\n",
      "1\n",
      "3  :  18  :  1\n"
     ]
    }
   ],
   "source": [
    "# Question No : 1\n",
    "'''Write a program to convert specified days into years, weeks and days.\n",
    "Take\n",
    "user input.\n",
    "Note: Ignore leap year'''\n",
    "\n",
    "days = int(input(\"Enter the number of Days\"))\n",
    "\n",
    "years = days // 365\n",
    "print(years)\n",
    "rem_days = days % 365\n",
    "#print(rem_days)\n",
    "weeks = rem_days // 7\n",
    "print(weeks)\n",
    "rem = rem_days % 7\n",
    "print(rem)\n",
    "print(years,\" : \",weeks,\" : \",rem)"
   ]
  },
  {
   "cell_type": "code",
   "execution_count": 2,
   "id": "1ab13a78-ff60-4f9d-bc70-6397dc37f4ad",
   "metadata": {},
   "outputs": [
    {
     "name": "stdin",
     "output_type": "stream",
     "text": [
      "Enter the salary 15000\n"
     ]
    },
    {
     "name": "stdout",
     "output_type": "stream",
     "text": [
      "4500.0\n",
      "13500.0\n",
      "33000.0\n"
     ]
    }
   ],
   "source": [
    "# Question No : 2 \n",
    "'''Write a Python program to input basiPython salary of an employee and\n",
    "calculate its Gross salary according to following:\n",
    "Basic Salary <= 10000 : HRA = 20%, DA = 80%\n",
    "Basic Salary <= 20000 : HRA = 30%, DA = 90%\n",
    "Basic Salary > 20000 : HRA = 35%, DA = 95%'''\n",
    "\n",
    "basic_salary = int(input(\"Enter the salary\"))\n",
    "\n",
    "if basic_salary <= 10000:\n",
    "    hra = 0.2 * basic_salary\n",
    "    print(hra)\n",
    "    da = 0.8 * basic_salary\n",
    "    print(da)\n",
    "    print(basic_salary + hra + da)\n",
    "elif basic_salary <= 20000:\n",
    "    hra = 0.3 * basic_salary\n",
    "    print(hra)\n",
    "    da = 0.9 * basic_salary\n",
    "    print(da)\n",
    "    print(basic_salary + hra + da)\n",
    "elif basic_salary  > 20000:\n",
    "    hra = 0.35 * basic_salary\n",
    "    print(hra)\n",
    "    da = 0.95 * basic_salary\n",
    "    print(da)\n",
    "    print(basic_salary + hra + da)\n",
    "else:\n",
    "    print(\"Chill\")"
   ]
  },
  {
   "cell_type": "code",
   "execution_count": 4,
   "id": "813febfc-8de6-45a6-87d5-d095e97820dc",
   "metadata": {},
   "outputs": [
    {
     "name": "stdin",
     "output_type": "stream",
     "text": [
      "Enter total unit 148\n"
     ]
    },
    {
     "name": "stdout",
     "output_type": "stream",
     "text": [
      "Total bill with surcharge 115.245\n"
     ]
    }
   ],
   "source": [
    "# Question No : 3\n",
    "'''Write a Python program to input electricity unit charges and calculate total\n",
    "electricity bill according to the given condition:\n",
    "For first 50 units Rs. 0.50/unit\n",
    "For next 100 units Rs. 0.75/unit\n",
    "For next 100 units Rs. 1.25/unit\n",
    "For unit above 250 Rs. 1.50/unit\n",
    "An additional surcharge of 17% is added to the bill'''\n",
    "\n",
    "electricity_unit = int(input(\"Enter total unit\"))\n",
    "\n",
    "if electricity_unit <= 50:\n",
    "    current_bill = (50 * 0.50)\n",
    "elif electricity_unit <= 150:\n",
    "    current_bill = (50 * 0.50) + (electricity_unit - 50) * 0.75\n",
    "elif electricity_unit <= 250:\n",
    "    current_bill = (50 * 0.50) + (100 * 0.75) + (elctricity_unit - 150) * 1.25\n",
    "else: \n",
    "    current_bill = (50 * 0.50) + (150 * 1.50) + (250 * 1.25) + (electricity_unit - 250) * 1.50\n",
    "surcharge = 0.17 * current_bill\n",
    "total_bill = surcharge + current_bill\n",
    "print(\"Total bill with surcharge\",total_bill)"
   ]
  },
  {
   "cell_type": "code",
   "execution_count": 5,
   "id": "b96ed8be-5b3b-4b57-86da-8f1f9e76712c",
   "metadata": {},
   "outputs": [
    {
     "name": "stdout",
     "output_type": "stream",
     "text": [
      "1 \n",
      "2 2 \n",
      "3 3 3 \n",
      "4 4 4 4 \n",
      "5 5 5 5 5 \n"
     ]
    }
   ],
   "source": [
    "# Question No : 4\n",
    "'''Write a Python program to print the given number patterns.\n",
    "1\n",
    "2 2\n",
    "3 3 3\n",
    "4 4 4 4\n",
    "5 5 5 5 5'''\n",
    "\n",
    "for i in range(1,6):\n",
    "    for j in range(i):\n",
    "        print(i, end = \" \" )\n",
    "    print()"
   ]
  },
  {
   "cell_type": "code",
   "execution_count": 6,
   "id": "ff36e259-122d-4c01-8b93-b27b2e2fca41",
   "metadata": {},
   "outputs": [
    {
     "name": "stdin",
     "output_type": "stream",
     "text": [
      "Enter a multi digit number 123\n"
     ]
    },
    {
     "name": "stdout",
     "output_type": "stream",
     "text": [
      "6\n"
     ]
    }
   ],
   "source": [
    "# Question No : 5\n",
    "'''Write a Python program to calculate product of digits of a number. Read\n",
    "value of n from user'''\n",
    "\n",
    "number = int(input(\"Enter a multi digit number\"))\n",
    "mul = 1\n",
    "while number > 0:\n",
    "    rem = number % 10\n",
    "    mul = mul * rem\n",
    "    number = number // 10\n",
    "else:\n",
    "    print(mul)"
   ]
  },
  {
   "cell_type": "code",
   "execution_count": 7,
   "id": "73c00dba-3d24-49d2-ad2f-61c51172f792",
   "metadata": {},
   "outputs": [
    {
     "name": "stdout",
     "output_type": "stream",
     "text": [
      "Hello\n",
      "World\n",
      "['HELLO', 'WORLD']\n",
      "124\n",
      "False\n",
      "['World', 23.45, 'Hello', 12, 67, 45]\n",
      "['HELLO', 'WORLD', 'World', 23.45, 'Hello', 12, 67, 45]\n",
      "['World', 23.45, 'Hello', 12, 67, 36, 45]\n",
      "7\n",
      "Hello 36\n"
     ]
    },
    {
     "data": {
      "text/plain": [
       "['World', 23.45, 'Hello', 12, 67, 36, 45]"
      ]
     },
     "execution_count": 7,
     "metadata": {},
     "output_type": "execute_result"
    }
   ],
   "source": [
    "# Question No : 6\n",
    "'''Create a list of elements like: x = [45, 67, 12, ‘Hello’, 23.45, ‘World’] and\n",
    "oerform following\n",
    "operations\n",
    "1. Extract only string values from this list.\n",
    "2. Create a new list with strings in upper case\n",
    "3. Find the addition of integer values\n",
    "4. Check that the value 56 is present in it or not.\n",
    "5. Print the list in reverse order.\n",
    "6. Delete the string ‘Hello’ from it.\n",
    "7. Insert a new value of 36 at 5th position in list.\n",
    "8. Count total number of elements in list now.\n",
    "9. Extract the values from 2nd index to 5th index.\n",
    "10. Append [34, ‘Pune’] to this list.\n",
    "11. Delete the last element from list.'''\n",
    "\n",
    "l1 = [45, 67, 12, 'Hello', 23.45, 'World']\n",
    "type(l1)\n",
    "x = []\n",
    "# Extract only string values from this list\n",
    "for i in l1:\n",
    "    if type(i) == str:\n",
    "        print(i)\n",
    "# Create a new list with strings in upper case\n",
    "for i in l1:\n",
    "    if type(i) == str:\n",
    "        x.append(i.upper())\n",
    "print(x)    \n",
    "# Find the addition of integer values\n",
    "sum = 0\n",
    "for i in l1:\n",
    "    if type(i) == int:\n",
    "        sum = sum + i\n",
    "print(sum)\n",
    "# Check that the value 56 is present in it or not\n",
    "print(56 in l1)\n",
    "# Print the list in reverse order\n",
    "l1.reverse()\n",
    "print(l1)\n",
    "# Delete the string ‘Hello’ from it\n",
    "for i in l1:\n",
    "    if i != 'HELLO':\n",
    "        x.append(i)\n",
    "print(x)\n",
    "#del l1[2]\n",
    "#print(l1)\n",
    "# Insert a new value of 36 at 5th position in list\n",
    "l2 = l1.insert(5,36)\n",
    "l2 = print(l1)\n",
    " # Count total number of elements in list now\n",
    "l2\n",
    "print(len(l1))\n",
    "# Extract the values from 2nd index to 5th index\n",
    "print(l1[2],l1[5])\n",
    "# Append [34, ‘Pune’] to this list\n",
    "l1.append([34, 'Pune'])\n",
    "l1\n",
    "# Delete the last element from list\n",
    "l1.pop()\n",
    "l1"
   ]
  },
  {
   "cell_type": "code",
   "execution_count": 8,
   "id": "c743e8b4-8719-45ad-a2db-c63754363e97",
   "metadata": {},
   "outputs": [
    {
     "name": "stdout",
     "output_type": "stream",
     "text": [
      "[3.26, 8.09, 9.15, 9.27, 11.22, 12.1]\n",
      "False\n",
      "{3.26, 8.09, 9.27, 9.15, 11.22, 12.1}\n"
     ]
    }
   ],
   "source": [
    "# Question No : 7\n",
    "'''Create a tuple of elements with 5 float values in it and perform following\n",
    "operations.\n",
    "1. Print the data in sorted manner.\n",
    "2. Check to see that the element 50 is present in it.\n",
    "3. Convert this tuple in set.'''\n",
    "\n",
    "t1 = (09.27,08.09,03.26,09.15,011.22,012.10)\n",
    "type(t1)\n",
    "# Print the data in sorted manner\n",
    "print(sorted(t1))\n",
    "# Check to see that the element 50 is present in it\n",
    "print(50 in t1)\n",
    "# Convert this tuple in set\n",
    "print(set(t1))"
   ]
  },
  {
   "cell_type": "code",
   "execution_count": 9,
   "id": "8de106a5-b50c-4c94-8b72-c3340c84e6b4",
   "metadata": {},
   "outputs": [
    {
     "name": "stdout",
     "output_type": "stream",
     "text": [
      "king\n",
      "{'a': 'apple', 'b': 'ball', 'c': 'cat', 'd': 'doll', 'k': 'king', 'z': 'zebra'}\n",
      "dict_values(['apple', 'ball', 'cat', 'dog', 'king', 'zebra'])\n",
      "6\n"
     ]
    }
   ],
   "source": [
    "# Question No : 8\n",
    "'''Create a dictionary of elements: {‘a’: ‘apple’, ‘b’: ‘ball’, ‘c’: ‘cat’, ‘d’: ‘doll’, ‘k’:\n",
    "‘king’} and\n",
    "perform following operations.\n",
    "1. Access the data at key ‘k’.\n",
    "2. Add a new values ‘z’: ‘zebra’\n",
    "3. Replace the contents of ‘d’ as ‘dog’\n",
    "4. Print all the values from this dictionary.\n",
    "5. Find the length of this dictionary.'''\n",
    "\n",
    "d1 = {'a': 'apple', 'b': 'ball', 'c': 'cat', 'd': 'doll', 'k':'king'}\n",
    "# Access the data at key ‘k’\n",
    "print(d1['k'])\n",
    "# Add a new values ‘z’: ‘zebra’\n",
    "d1['z'] = 'zebra'\n",
    "print(d1)\n",
    "# Replace the contents of ‘d’ as ‘dog’\n",
    "d1['d'] = 'dog'\n",
    "d1\n",
    "# Print all the values from this dictionary\n",
    "print(d1.values())\n",
    "# Find the length of this dictionary\n",
    "print(len(d1))"
   ]
  },
  {
   "cell_type": "code",
   "execution_count": 10,
   "id": "9fa54e6a-195d-497f-abf5-7b87525eeef3",
   "metadata": {},
   "outputs": [
    {
     "name": "stdout",
     "output_type": "stream",
     "text": [
      "[10, 22, 36, 52, 62, 98]\n",
      "second largest number is 62\n"
     ]
    }
   ],
   "source": [
    "# Question No : 9\n",
    "'''Write a program to find the second largest element in a list'''\n",
    "\n",
    "l1 = [10,22,36,52,62,98]\n",
    "l2 = sorted(l1)\n",
    "print(l2)\n",
    "second_largest = l2[-2]\n",
    "print(\"second largest number is\",second_largest)"
   ]
  },
  {
   "cell_type": "code",
   "execution_count": 11,
   "id": "620417d9-059c-4349-affa-dcde1a8148ce",
   "metadata": {},
   "outputs": [
    {
     "name": "stdout",
     "output_type": "stream",
     "text": [
      "['Iron', 'Aluminum', 'Steel', 'Brass', 'Bronze', 'Zinc', 'Lead', 'Nickel', 'Tin']\n"
     ]
    }
   ],
   "source": [
    "# Question No : 10\n",
    "'''This is a list of some metallic elements.\n",
    "metals = [ 'silver','gold', ... ]\n",
    "Make a new list that is almost identical to the metals list: the new\n",
    "contains the same items, in the same order, except that it does NOT\n",
    "contain the item 'copper'''\n",
    "\n",
    "metals = ['Iron','Aluminum','Copper','Steel','Brass','Bronze','Zinc','Lead','Nickel','Tin']\n",
    "metals_2 = []\n",
    "for i in metals:\n",
    "    if i != 'Copper':\n",
    "        metals_2.append(i)\n",
    "print(metals_2)"
   ]
  },
  {
   "cell_type": "code",
   "execution_count": null,
   "id": "2a470a84-3160-4d47-9f6d-f7f81bdcd656",
   "metadata": {},
   "outputs": [],
   "source": []
  }
 ],
 "metadata": {
  "kernelspec": {
   "display_name": "Python 3 (ipykernel)",
   "language": "python",
   "name": "python3"
  },
  "language_info": {
   "codemirror_mode": {
    "name": "ipython",
    "version": 3
   },
   "file_extension": ".py",
   "mimetype": "text/x-python",
   "name": "python",
   "nbconvert_exporter": "python",
   "pygments_lexer": "ipython3",
   "version": "3.11.7"
  }
 },
 "nbformat": 4,
 "nbformat_minor": 5
}
